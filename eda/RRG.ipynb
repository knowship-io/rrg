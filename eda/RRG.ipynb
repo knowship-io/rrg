{
 "cells": [
  {
   "cell_type": "code",
   "execution_count": 1,
   "metadata": {},
   "outputs": [
    {
     "name": "stdout",
     "output_type": "stream",
     "text": [
      "Collecting yfinance\n",
      "  Downloading yfinance-0.1.59.tar.gz (25 kB)\n",
      "Requirement already satisfied: pandas>=0.24 in /home/sparqy/anaconda3/lib/python3.7/site-packages (from yfinance) (0.24.0)\n",
      "Requirement already satisfied: numpy>=1.15 in /home/sparqy/anaconda3/lib/python3.7/site-packages (from yfinance) (1.15.0)\n",
      "Requirement already satisfied: requests>=2.20 in /home/sparqy/anaconda3/lib/python3.7/site-packages (from yfinance) (2.25.1)\n",
      "Collecting multitasking>=0.0.7\n",
      "  Downloading multitasking-0.0.9.tar.gz (8.1 kB)\n",
      "Collecting lxml>=4.5.1\n",
      "  Downloading lxml-4.6.3-cp37-cp37m-manylinux1_x86_64.whl (5.5 MB)\n",
      "\u001b[K     |████████████████████████████████| 5.5 MB 6.8 MB/s eta 0:00:01\n",
      "\u001b[?25hRequirement already satisfied: pytz>=2011k in /home/sparqy/anaconda3/lib/python3.7/site-packages (from pandas>=0.24->yfinance) (2021.1)\n",
      "Requirement already satisfied: python-dateutil>=2.5.0 in /home/sparqy/anaconda3/lib/python3.7/site-packages (from pandas>=0.24->yfinance) (2.7.3)\n",
      "Requirement already satisfied: idna<3,>=2.5 in /home/sparqy/anaconda3/lib/python3.7/site-packages (from requests>=2.20->yfinance) (2.10)\n",
      "Requirement already satisfied: urllib3<1.27,>=1.21.1 in /home/sparqy/anaconda3/lib/python3.7/site-packages (from requests>=2.20->yfinance) (1.26.4)\n",
      "Requirement already satisfied: chardet<5,>=3.0.2 in /home/sparqy/anaconda3/lib/python3.7/site-packages (from requests>=2.20->yfinance) (4.0.0)\n",
      "Requirement already satisfied: certifi>=2017.4.17 in /home/sparqy/anaconda3/lib/python3.7/site-packages (from requests>=2.20->yfinance) (2020.12.5)\n",
      "Requirement already satisfied: six>=1.5 in /home/sparqy/anaconda3/lib/python3.7/site-packages (from python-dateutil>=2.5.0->pandas>=0.24->yfinance) (1.15.0)\n",
      "Building wheels for collected packages: yfinance, multitasking\n",
      "  Building wheel for yfinance (setup.py) ... \u001b[?25ldone\n",
      "\u001b[?25h  Created wheel for yfinance: filename=yfinance-0.1.59-py2.py3-none-any.whl size=23442 sha256=3336827bc7e52be8c5cf2084d0192691c36a2dd73e6e7fd2be6145c673fd4f52\n",
      "  Stored in directory: /home/sparqy/.cache/pip/wheels/26/af/8b/fac1b47dffef567f945641cdc9b67bb25fae5725d462a8cf81\n",
      "  Building wheel for multitasking (setup.py) ... \u001b[?25ldone\n",
      "\u001b[?25h  Created wheel for multitasking: filename=multitasking-0.0.9-py3-none-any.whl size=8366 sha256=4915b123270e12939d2a69117b8b7f805ee83923cb995815eca82e0381df0902\n",
      "  Stored in directory: /home/sparqy/.cache/pip/wheels/ae/25/47/4d68431a7ec1b6c4b5233365934b74c1d4e665bf5f968d363a\n",
      "Successfully built yfinance multitasking\n",
      "Installing collected packages: multitasking, lxml, yfinance\n",
      "  Attempting uninstall: lxml\n",
      "    Found existing installation: lxml 4.5.0\n",
      "    Uninstalling lxml-4.5.0:\n",
      "      Successfully uninstalled lxml-4.5.0\n",
      "Successfully installed lxml-4.6.3 multitasking-0.0.9 yfinance-0.1.59\n"
     ]
    }
   ],
   "source": [
    "!pip install yfinance"
   ]
  },
  {
   "cell_type": "code",
   "execution_count": 2,
   "metadata": {},
   "outputs": [
    {
     "output_type": "execute_result",
     "data": {
      "text/plain": [
       "            Open       High        Low      Close        Volume  Dividends  \\\n",
       "count  21.000000  21.000000  21.000000  21.000000  2.100000e+01       21.0   \n",
       "mean   22.436409  22.512701  22.354999  22.440595  2.190000e+06        0.0   \n",
       "std     0.358932   0.338055   0.361026   0.359019  9.428644e+05        0.0   \n",
       "min    21.931673  22.048900  21.697211  21.746058  9.129000e+05        0.0   \n",
       "25%    22.156360  22.234514  22.097747  22.205206  1.564900e+06        0.0   \n",
       "50%    22.351742  22.410358  22.273590  22.322435  1.959500e+06        0.0   \n",
       "75%    22.898813  22.908583  22.664355  22.742508  2.420400e+06        0.0   \n",
       "max    22.957428  22.996507  22.898814  22.996506  4.481500e+06        0.0   \n",
       "\n",
       "       Stock Splits  \n",
       "count          21.0  \n",
       "mean            0.0  \n",
       "std             0.0  \n",
       "min             0.0  \n",
       "25%             0.0  \n",
       "50%             0.0  \n",
       "75%             0.0  \n",
       "max             0.0  "
      ],
      "text/html": "<div>\n<style scoped>\n    .dataframe tbody tr th:only-of-type {\n        vertical-align: middle;\n    }\n\n    .dataframe tbody tr th {\n        vertical-align: top;\n    }\n\n    .dataframe thead th {\n        text-align: right;\n    }\n</style>\n<table border=\"1\" class=\"dataframe\">\n  <thead>\n    <tr style=\"text-align: right;\">\n      <th></th>\n      <th>Open</th>\n      <th>High</th>\n      <th>Low</th>\n      <th>Close</th>\n      <th>Volume</th>\n      <th>Dividends</th>\n      <th>Stock Splits</th>\n    </tr>\n  </thead>\n  <tbody>\n    <tr>\n      <th>count</th>\n      <td>21.000000</td>\n      <td>21.000000</td>\n      <td>21.000000</td>\n      <td>21.000000</td>\n      <td>2.100000e+01</td>\n      <td>21.0</td>\n      <td>21.0</td>\n    </tr>\n    <tr>\n      <th>mean</th>\n      <td>22.436409</td>\n      <td>22.512701</td>\n      <td>22.354999</td>\n      <td>22.440595</td>\n      <td>2.190000e+06</td>\n      <td>0.0</td>\n      <td>0.0</td>\n    </tr>\n    <tr>\n      <th>std</th>\n      <td>0.358932</td>\n      <td>0.338055</td>\n      <td>0.361026</td>\n      <td>0.359019</td>\n      <td>9.428644e+05</td>\n      <td>0.0</td>\n      <td>0.0</td>\n    </tr>\n    <tr>\n      <th>min</th>\n      <td>21.931673</td>\n      <td>22.048900</td>\n      <td>21.697211</td>\n      <td>21.746058</td>\n      <td>9.129000e+05</td>\n      <td>0.0</td>\n      <td>0.0</td>\n    </tr>\n    <tr>\n      <th>25%</th>\n      <td>22.156360</td>\n      <td>22.234514</td>\n      <td>22.097747</td>\n      <td>22.205206</td>\n      <td>1.564900e+06</td>\n      <td>0.0</td>\n      <td>0.0</td>\n    </tr>\n    <tr>\n      <th>50%</th>\n      <td>22.351742</td>\n      <td>22.410358</td>\n      <td>22.273590</td>\n      <td>22.322435</td>\n      <td>1.959500e+06</td>\n      <td>0.0</td>\n      <td>0.0</td>\n    </tr>\n    <tr>\n      <th>75%</th>\n      <td>22.898813</td>\n      <td>22.908583</td>\n      <td>22.664355</td>\n      <td>22.742508</td>\n      <td>2.420400e+06</td>\n      <td>0.0</td>\n      <td>0.0</td>\n    </tr>\n    <tr>\n      <th>max</th>\n      <td>22.957428</td>\n      <td>22.996507</td>\n      <td>22.898814</td>\n      <td>22.996506</td>\n      <td>4.481500e+06</td>\n      <td>0.0</td>\n      <td>0.0</td>\n    </tr>\n  </tbody>\n</table>\n</div>"
     },
     "metadata": {},
     "execution_count": 2
    }
   ],
   "source": [
    "import yfinance as yf\n",
    "SPY = yf.Ticker('EWA')\n",
    "\n",
    "spy_df = SPY.history(start=\"2020-01-01\", end=\"2020-02-01\")\n",
    "spy_df.describe()"
   ]
  },
  {
   "cell_type": "code",
   "execution_count": 16,
   "metadata": {},
   "outputs": [
    {
     "output_type": "execute_result",
     "data": {
      "text/plain": [
       "                  Open        High         Low       Close     Volume  \\\n",
       "Date                                                                    \n",
       "2020-01-02  316.571857  317.892788  315.583600  317.873199   59151200   \n",
       "2020-01-03  314.243138  316.669737  314.184433  315.466217   77709700   \n",
       "2020-01-06  313.587557  316.757797  313.460352  316.669739   55653900   \n",
       "2020-01-07  316.063060  316.571880  315.299860  315.779327   40496400   \n",
       "2020-01-08  315.984822  318.763653  315.720648  317.462311   68296000   \n",
       "2020-01-09  319.135431  319.693162  318.509200  319.614868   48473300   \n",
       "2020-01-10  320.241117  320.407439  318.196134  318.695129   53029300   \n",
       "2020-01-13  319.360472  320.896636  318.900593  320.886871   47086800   \n",
       "2020-01-14  320.417233  321.542459  319.800797  320.397675   62832800   \n",
       "2020-01-15  320.299799  321.933815  320.211741  321.121704   72056600   \n",
       "2020-01-16  322.599212  323.792938  322.354597  323.792938   54050300   \n",
       "2020-01-17  324.556166  325.025809  323.724466  324.800781   95846000   \n",
       "2020-01-21  323.773385  325.025817  323.695121  324.164764   77742400   \n",
       "2020-01-22  325.084468  325.779198  324.037535  324.203857   48914900   \n",
       "2020-01-23  323.509193  325.016034  322.315467  324.575714   51963000   \n",
       "2020-01-24  325.280181  325.368239  320.309573  321.689209   87578400   \n",
       "2020-01-27  316.072867  318.117850  315.710840  316.532745   84062500   \n",
       "2020-01-28  318.059128  320.789047  316.630580  319.849731   63834000   \n",
       "2020-01-29  321.307614  321.552230  319.370247  319.585510   53888900   \n",
       "2020-01-30  317.374207  320.847768  316.571890  320.622711   75491800   \n",
       "2020-01-31  319.957361  320.123713  313.822410  314.800873  113845600   \n",
       "\n",
       "            Dividends  Stock Splits  \n",
       "Date                                 \n",
       "2020-01-02          0             0  \n",
       "2020-01-03          0             0  \n",
       "2020-01-06          0             0  \n",
       "2020-01-07          0             0  \n",
       "2020-01-08          0             0  \n",
       "2020-01-09          0             0  \n",
       "2020-01-10          0             0  \n",
       "2020-01-13          0             0  \n",
       "2020-01-14          0             0  \n",
       "2020-01-15          0             0  \n",
       "2020-01-16          0             0  \n",
       "2020-01-17          0             0  \n",
       "2020-01-21          0             0  \n",
       "2020-01-22          0             0  \n",
       "2020-01-23          0             0  \n",
       "2020-01-24          0             0  \n",
       "2020-01-27          0             0  \n",
       "2020-01-28          0             0  \n",
       "2020-01-29          0             0  \n",
       "2020-01-30          0             0  \n",
       "2020-01-31          0             0  "
      ],
      "text/html": "<div>\n<style scoped>\n    .dataframe tbody tr th:only-of-type {\n        vertical-align: middle;\n    }\n\n    .dataframe tbody tr th {\n        vertical-align: top;\n    }\n\n    .dataframe thead th {\n        text-align: right;\n    }\n</style>\n<table border=\"1\" class=\"dataframe\">\n  <thead>\n    <tr style=\"text-align: right;\">\n      <th></th>\n      <th>Open</th>\n      <th>High</th>\n      <th>Low</th>\n      <th>Close</th>\n      <th>Volume</th>\n      <th>Dividends</th>\n      <th>Stock Splits</th>\n    </tr>\n    <tr>\n      <th>Date</th>\n      <th></th>\n      <th></th>\n      <th></th>\n      <th></th>\n      <th></th>\n      <th></th>\n      <th></th>\n    </tr>\n  </thead>\n  <tbody>\n    <tr>\n      <th>2020-01-02</th>\n      <td>316.571857</td>\n      <td>317.892788</td>\n      <td>315.583600</td>\n      <td>317.873199</td>\n      <td>59151200</td>\n      <td>0</td>\n      <td>0</td>\n    </tr>\n    <tr>\n      <th>2020-01-03</th>\n      <td>314.243138</td>\n      <td>316.669737</td>\n      <td>314.184433</td>\n      <td>315.466217</td>\n      <td>77709700</td>\n      <td>0</td>\n      <td>0</td>\n    </tr>\n    <tr>\n      <th>2020-01-06</th>\n      <td>313.587557</td>\n      <td>316.757797</td>\n      <td>313.460352</td>\n      <td>316.669739</td>\n      <td>55653900</td>\n      <td>0</td>\n      <td>0</td>\n    </tr>\n    <tr>\n      <th>2020-01-07</th>\n      <td>316.063060</td>\n      <td>316.571880</td>\n      <td>315.299860</td>\n      <td>315.779327</td>\n      <td>40496400</td>\n      <td>0</td>\n      <td>0</td>\n    </tr>\n    <tr>\n      <th>2020-01-08</th>\n      <td>315.984822</td>\n      <td>318.763653</td>\n      <td>315.720648</td>\n      <td>317.462311</td>\n      <td>68296000</td>\n      <td>0</td>\n      <td>0</td>\n    </tr>\n    <tr>\n      <th>2020-01-09</th>\n      <td>319.135431</td>\n      <td>319.693162</td>\n      <td>318.509200</td>\n      <td>319.614868</td>\n      <td>48473300</td>\n      <td>0</td>\n      <td>0</td>\n    </tr>\n    <tr>\n      <th>2020-01-10</th>\n      <td>320.241117</td>\n      <td>320.407439</td>\n      <td>318.196134</td>\n      <td>318.695129</td>\n      <td>53029300</td>\n      <td>0</td>\n      <td>0</td>\n    </tr>\n    <tr>\n      <th>2020-01-13</th>\n      <td>319.360472</td>\n      <td>320.896636</td>\n      <td>318.900593</td>\n      <td>320.886871</td>\n      <td>47086800</td>\n      <td>0</td>\n      <td>0</td>\n    </tr>\n    <tr>\n      <th>2020-01-14</th>\n      <td>320.417233</td>\n      <td>321.542459</td>\n      <td>319.800797</td>\n      <td>320.397675</td>\n      <td>62832800</td>\n      <td>0</td>\n      <td>0</td>\n    </tr>\n    <tr>\n      <th>2020-01-15</th>\n      <td>320.299799</td>\n      <td>321.933815</td>\n      <td>320.211741</td>\n      <td>321.121704</td>\n      <td>72056600</td>\n      <td>0</td>\n      <td>0</td>\n    </tr>\n    <tr>\n      <th>2020-01-16</th>\n      <td>322.599212</td>\n      <td>323.792938</td>\n      <td>322.354597</td>\n      <td>323.792938</td>\n      <td>54050300</td>\n      <td>0</td>\n      <td>0</td>\n    </tr>\n    <tr>\n      <th>2020-01-17</th>\n      <td>324.556166</td>\n      <td>325.025809</td>\n      <td>323.724466</td>\n      <td>324.800781</td>\n      <td>95846000</td>\n      <td>0</td>\n      <td>0</td>\n    </tr>\n    <tr>\n      <th>2020-01-21</th>\n      <td>323.773385</td>\n      <td>325.025817</td>\n      <td>323.695121</td>\n      <td>324.164764</td>\n      <td>77742400</td>\n      <td>0</td>\n      <td>0</td>\n    </tr>\n    <tr>\n      <th>2020-01-22</th>\n      <td>325.084468</td>\n      <td>325.779198</td>\n      <td>324.037535</td>\n      <td>324.203857</td>\n      <td>48914900</td>\n      <td>0</td>\n      <td>0</td>\n    </tr>\n    <tr>\n      <th>2020-01-23</th>\n      <td>323.509193</td>\n      <td>325.016034</td>\n      <td>322.315467</td>\n      <td>324.575714</td>\n      <td>51963000</td>\n      <td>0</td>\n      <td>0</td>\n    </tr>\n    <tr>\n      <th>2020-01-24</th>\n      <td>325.280181</td>\n      <td>325.368239</td>\n      <td>320.309573</td>\n      <td>321.689209</td>\n      <td>87578400</td>\n      <td>0</td>\n      <td>0</td>\n    </tr>\n    <tr>\n      <th>2020-01-27</th>\n      <td>316.072867</td>\n      <td>318.117850</td>\n      <td>315.710840</td>\n      <td>316.532745</td>\n      <td>84062500</td>\n      <td>0</td>\n      <td>0</td>\n    </tr>\n    <tr>\n      <th>2020-01-28</th>\n      <td>318.059128</td>\n      <td>320.789047</td>\n      <td>316.630580</td>\n      <td>319.849731</td>\n      <td>63834000</td>\n      <td>0</td>\n      <td>0</td>\n    </tr>\n    <tr>\n      <th>2020-01-29</th>\n      <td>321.307614</td>\n      <td>321.552230</td>\n      <td>319.370247</td>\n      <td>319.585510</td>\n      <td>53888900</td>\n      <td>0</td>\n      <td>0</td>\n    </tr>\n    <tr>\n      <th>2020-01-30</th>\n      <td>317.374207</td>\n      <td>320.847768</td>\n      <td>316.571890</td>\n      <td>320.622711</td>\n      <td>75491800</td>\n      <td>0</td>\n      <td>0</td>\n    </tr>\n    <tr>\n      <th>2020-01-31</th>\n      <td>319.957361</td>\n      <td>320.123713</td>\n      <td>313.822410</td>\n      <td>314.800873</td>\n      <td>113845600</td>\n      <td>0</td>\n      <td>0</td>\n    </tr>\n  </tbody>\n</table>\n</div>"
     },
     "metadata": {},
     "execution_count": 16
    }
   ],
   "source": [
    "\n",
    "tickers = yf.Tickers('SPY aapl goog')\n",
    "# ^ returns a named tuple of Ticker objects\n",
    "\n",
    "tickers.tickers['SPY'].history(start='2020-01-01', end='2020-02-01')\n",
    "# access each ticker using (example)\n",
    "# tickers.tickers.MSFT.info\n",
    "# tickers.tickers.AAPL.history(period=\"1mo\")\n",
    "# tickers.tickers.GOOG.actions"
   ]
  },
  {
   "cell_type": "code",
   "execution_count": 17,
   "metadata": {},
   "outputs": [],
   "source": [
    "spdr_tickers = ['XLB', 'XLE', 'XLF', 'XLI','XLK','XLP','XLRE','XLU','XLV', 'XLY']"
   ]
  },
  {
   "cell_type": "code",
   "execution_count": 19,
   "metadata": {},
   "outputs": [],
   "source": [
    "import pandas as pd \n",
    "\n",
    "def get_tickers_dataframe(tickers:list, period:str = '1mo', interval:str = '1d')-> pd.DataFrame:\n",
    "    \"\"\"\n",
    "    Fetch ticker symbol data from yahoo finance.\n",
    "\n",
    "    KWARGS\n",
    "    tickers -- list of tickers to fetch information for\n",
    "    period  -- (optional, default is '1mo') data retrival time horizon\n",
    "               valid periods: 1d,5d,1mo,3mo,6mo,1y,2y,5y,10y,ytd,max\n",
    "    interval -- (optional, default is '1d') fetch data by interval (including intraday if period < 60 days)\n",
    "                valid intervals: 1m,2m,5m,15m,30m,60m,90m,1h,1d,5d,1wk,1mo,3mo\n",
    "    \"\"\"\n",
    "    data = yf.download(  # or pdr.get_data_yahoo(...\n",
    "        # tickers list or string as well\n",
    "        tickers = \" \".join(tickers),\n",
    "\n",
    "        # use \"period\" instead of start/end\n",
    "        # valid periods: 1d,5d,1mo,3mo,6mo,1y,2y,5y,10y,ytd,max\n",
    "        # (optional, default is '1mo')\n",
    "        period = period,\n",
    "\n",
    "        # fetch data by interval (including intraday if period < 60 days)\n",
    "        # valid intervals: 1m,2m,5m,15m,30m,60m,90m,1h,1d,5d,1wk,1mo,3mo\n",
    "        # (optional, default is '1d')\n",
    "        interval = interval,\n",
    "\n",
    "        # group by ticker (to access via data['SPY'])\n",
    "        # (optional, default is 'column')\n",
    "        group_by = 'ticker',\n",
    "\n",
    "        # adjust all OHLC automatically\n",
    "        # (optional, default is False)\n",
    "        auto_adjust = True,\n",
    "\n",
    "        # use threads for mass downloading? (True/False/Integer)\n",
    "        # (optional, default is True)\n",
    "        threads = True,\n",
    "\n",
    "        # proxy URL scheme use use when downloading?\n",
    "        # (optional, default is None)\n",
    "        proxy = None\n",
    "    )\n",
    "\n",
    "    return data"
   ]
  },
  {
   "cell_type": "code",
   "execution_count": null,
   "metadata": {},
   "outputs": [],
   "source": []
  }
 ],
 "metadata": {
  "kernelspec": {
   "name": "python376jvsc74a57bd0b60fcd99ce9cba0e409542ff496cb92871fe949fa612d84becdd519cb9978a21",
   "display_name": "Python 3.7.6 64-bit ('base': conda)"
  },
  "language_info": {
   "codemirror_mode": {
    "name": "ipython",
    "version": 3
   },
   "file_extension": ".py",
   "mimetype": "text/x-python",
   "name": "python",
   "nbconvert_exporter": "python",
   "pygments_lexer": "ipython3",
   "version": "3.7.6"
  }
 },
 "nbformat": 4,
 "nbformat_minor": 4
}